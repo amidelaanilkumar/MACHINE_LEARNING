{
  "nbformat": 4,
  "nbformat_minor": 0,
  "metadata": {
    "colab": {
      "provenance": [],
      "collapsed_sections": []
    },
    "kernelspec": {
      "name": "python3",
      "display_name": "Python 3"
    },
    "language_info": {
      "name": "python"
    }
  },
  "cells": [
    {
      "cell_type": "code",
      "source": [
        "import numpy as np \n",
        "import pandas as pd"
      ],
      "metadata": {
        "id": "YcPEGujCyRBG"
      },
      "execution_count": 1,
      "outputs": []
    },
    {
      "cell_type": "markdown",
      "source": [
        " How to create a series from a list, numpy array and dict?\n"
      ],
      "metadata": {
        "id": "YfwvUJRwyWGt"
      }
    },
    {
      "cell_type": "code",
      "source": [
        "import numpy as np\n",
        "mylist = list('amidelaanilkumar')\n",
        "myarr = np.arange(16)\n",
        "mydict = dict(zip(mylist, myarr))"
      ],
      "metadata": {
        "id": "-mxRWilsyctq"
      },
      "execution_count": 2,
      "outputs": []
    },
    {
      "cell_type": "code",
      "source": [
        "ser1 = pd.Series(mylist)\n",
        "ser2 = pd.Series(myarr)\n",
        "ser3 = pd.Series(mydict)\n",
        "print(ser3.head())"
      ],
      "metadata": {
        "colab": {
          "base_uri": "https://localhost:8080/"
        },
        "id": "YFiD0OYAzC_R",
        "outputId": "a9ead200-8d81-459b-e2fc-0fa3c99df745"
      },
      "execution_count": 3,
      "outputs": [
        {
          "output_type": "stream",
          "name": "stdout",
          "text": [
            "a    14\n",
            "m    13\n",
            "i     9\n",
            "d     3\n",
            "e     4\n",
            "dtype: int64\n"
          ]
        }
      ]
    },
    {
      "cell_type": "markdown",
      "source": [
        "How to convert the index of a series into a column of a dataframe?"
      ],
      "metadata": {
        "id": "n1PIb_sWzO5h"
      }
    },
    {
      "cell_type": "code",
      "source": [
        "mylist = list('amidelaanilkumar')\n",
        "myarr = np.arange(26)\n",
        "mydict = dict(zip(mylist, myarr))\n",
        "ser = pd.Series(mydict)\n",
        "\n",
        "df = ser.to_frame().reset_index()\n",
        "print(df.head())"
      ],
      "metadata": {
        "colab": {
          "base_uri": "https://localhost:8080/"
        },
        "id": "IVlvBjy7zQBU",
        "outputId": "5b22ffce-604c-4676-aefc-32b6141ddc2a"
      },
      "execution_count": 4,
      "outputs": [
        {
          "output_type": "stream",
          "name": "stdout",
          "text": [
            "  index   0\n",
            "0     a  14\n",
            "1     m  13\n",
            "2     i   9\n",
            "3     d   3\n",
            "4     e   4\n"
          ]
        }
      ]
    },
    {
      "cell_type": "markdown",
      "source": [
        " How to combine many series to form a dataframe?\n"
      ],
      "metadata": {
        "id": "AFdDICW3z1Gg"
      }
    },
    {
      "cell_type": "code",
      "source": [
        "import numpy as np\n",
        "ser1 = pd.Series(list('amidelaanilkumar'))\n",
        "ser2 = pd.Series(np.arange(26))\n",
        "\n",
        "df = pd.concat([ser1, ser2], axis=1)\n",
        "\n",
        "\n",
        "df = pd.DataFrame({'col1': ser1, 'col2': ser2})\n",
        "print(df.head())"
      ],
      "metadata": {
        "colab": {
          "base_uri": "https://localhost:8080/"
        },
        "id": "KxLmfujOz8O0",
        "outputId": "cf425787-63b1-4298-e753-6fb71a0b792c"
      },
      "execution_count": 5,
      "outputs": [
        {
          "output_type": "stream",
          "name": "stdout",
          "text": [
            "  col1  col2\n",
            "0    a     0\n",
            "1    m     1\n",
            "2    i     2\n",
            "3    d     3\n",
            "4    e     4\n"
          ]
        }
      ]
    },
    {
      "cell_type": "code",
      "source": [
        "ser = pd.Series(list('amidelaanilkumar'))\n",
        "\n",
        "ser.name = 'student name'\n",
        "ser.head()"
      ],
      "metadata": {
        "colab": {
          "base_uri": "https://localhost:8080/"
        },
        "id": "z7Xmabvp0dg1",
        "outputId": "b93da63f-3a73-4d0f-f4fd-2cb8aa34f624"
      },
      "execution_count": 6,
      "outputs": [
        {
          "output_type": "execute_result",
          "data": {
            "text/plain": [
              "0    a\n",
              "1    m\n",
              "2    i\n",
              "3    d\n",
              "4    e\n",
              "Name: student name, dtype: object"
            ]
          },
          "metadata": {},
          "execution_count": 6
        }
      ]
    },
    {
      "cell_type": "code",
      "source": [
        "# Input\n",
        "ser1 = pd.Series([1, 2, 3, 4, 5])\n",
        "ser2 = pd.Series([4, 5, 6, 7, 8])\n",
        "\n",
        "# Solution\n",
        "ser1[~ser1.isin(ser2)]"
      ],
      "metadata": {
        "colab": {
          "base_uri": "https://localhost:8080/"
        },
        "id": "h0V1a_0n0nv6",
        "outputId": "e4a2ebeb-51ac-4891-b8d3-69d1724bfe7d"
      },
      "execution_count": 7,
      "outputs": [
        {
          "output_type": "execute_result",
          "data": {
            "text/plain": [
              "0    1\n",
              "1    2\n",
              "2    3\n",
              "dtype: int64"
            ]
          },
          "metadata": {},
          "execution_count": 7
        }
      ]
    },
    {
      "cell_type": "code",
      "source": [
        "ser1 = pd.Series([1, 2, 3, 4, 5])\n",
        "ser2 = pd.Series([4, 5, 6, 7, 8])\n",
        "\n",
        "# Solution\n",
        "ser_u = pd.Series(np.union1d(ser1, ser2))  # union\n",
        "ser_i = pd.Series(np.intersect1d(ser1, ser2))  # intersect\n",
        "ser_u[~ser_u.isin(ser_i)]"
      ],
      "metadata": {
        "colab": {
          "base_uri": "https://localhost:8080/"
        },
        "id": "cShoOk9M0z1x",
        "outputId": "3b5f9477-234f-40c3-b733-28fe2708033d"
      },
      "execution_count": 8,
      "outputs": [
        {
          "output_type": "execute_result",
          "data": {
            "text/plain": [
              "0    1\n",
              "1    2\n",
              "2    3\n",
              "5    6\n",
              "6    7\n",
              "7    8\n",
              "dtype: int64"
            ]
          },
          "metadata": {},
          "execution_count": 8
        }
      ]
    },
    {
      "cell_type": "code",
      "source": [
        "state = np.random.RandomState(100)\n",
        "ser = pd.Series(state.normal(10, 5, 25))\n",
        "\n",
        "# Solution\n",
        "np.percentile(ser, q=[0, 25, 50, 75, 100])"
      ],
      "metadata": {
        "colab": {
          "base_uri": "https://localhost:8080/"
        },
        "id": "epdjnQNg07tw",
        "outputId": "314cb2c7-0d85-4c37-d3af-af8549817776"
      },
      "execution_count": 9,
      "outputs": [
        {
          "output_type": "execute_result",
          "data": {
            "text/plain": [
              "array([ 1.25117263,  7.70986507, 10.92259345, 13.36360403, 18.0949083 ])"
            ]
          },
          "metadata": {},
          "execution_count": 9
        }
      ]
    },
    {
      "cell_type": "code",
      "source": [
        "ser = pd.Series(np.take(list('abcdefgh'), np.random.randint(8, size=30)))\n",
        "\n",
        "# Solution\n",
        "ser.value_counts()"
      ],
      "metadata": {
        "colab": {
          "base_uri": "https://localhost:8080/"
        },
        "id": "yUlfN0WA07kc",
        "outputId": "5c0e0ee8-c999-4e9c-f460-07e63f7f6b46"
      },
      "execution_count": 10,
      "outputs": [
        {
          "output_type": "execute_result",
          "data": {
            "text/plain": [
              "b    6\n",
              "f    5\n",
              "d    5\n",
              "a    5\n",
              "h    4\n",
              "e    3\n",
              "c    2\n",
              "dtype: int64"
            ]
          },
          "metadata": {},
          "execution_count": 10
        }
      ]
    },
    {
      "cell_type": "code",
      "source": [
        "words = pd.Series(['Java', 'Kotlin', 'Python', 'Scala', 'Ruby'])\n",
        "rst = words.map(lambda calc: len(calc))\n",
        "print(rst)"
      ],
      "metadata": {
        "colab": {
          "base_uri": "https://localhost:8080/"
        },
        "id": "xXPB0zaAvn6V",
        "outputId": "e2d25986-181b-4556-cecd-9e024731c253"
      },
      "execution_count": 11,
      "outputs": [
        {
          "output_type": "stream",
          "name": "stdout",
          "text": [
            "0    4\n",
            "1    6\n",
            "2    6\n",
            "3    5\n",
            "4    4\n",
            "dtype: int64\n"
          ]
        }
      ]
    },
    {
      "cell_type": "code",
      "source": [
        "ser = pd.Series([6,7,5,2,4,1,3])\n",
        "res = pd.Series([abs(abs(ser[i]-ser[i+1])-abs(ser[i+1]-ser[i+2])) for i in range(len(ser)-2)])\n",
        "print(res)"
      ],
      "metadata": {
        "colab": {
          "base_uri": "https://localhost:8080/"
        },
        "id": "OPoXDnfuvssT",
        "outputId": "14eccd29-9ed9-4989-a994-310d80afd3db"
      },
      "execution_count": 12,
      "outputs": [
        {
          "output_type": "stream",
          "name": "stdout",
          "text": [
            "0    1\n",
            "1    1\n",
            "2    1\n",
            "3    1\n",
            "4    1\n",
            "dtype: int64\n"
          ]
        }
      ]
    },
    {
      "cell_type": "code",
      "source": [
        "dt_series = pd.Series(['28 July 2020', '16 January 2013', '29 February 2016 18:14'])\n",
        "print(pd.to_datetime(dt_series))"
      ],
      "metadata": {
        "colab": {
          "base_uri": "https://localhost:8080/"
        },
        "id": "ZyTnrCbovuiu",
        "outputId": "fd029225-93cb-42a9-8c81-01335d11918f"
      },
      "execution_count": 13,
      "outputs": [
        {
          "output_type": "stream",
          "name": "stdout",
          "text": [
            "0   2020-07-28 00:00:00\n",
            "1   2013-01-16 00:00:00\n",
            "2   2016-02-29 18:14:00\n",
            "dtype: datetime64[ns]\n"
          ]
        }
      ]
    },
    {
      "cell_type": "code",
      "source": [
        "series = pd.Series(['geeks', 'for', 'geeks', 'pandas', 'series'])\n",
        "newSeries = series.map(lambda x: x[0].upper() + x[1:])\n",
        "newSeries"
      ],
      "metadata": {
        "colab": {
          "base_uri": "https://localhost:8080/"
        },
        "id": "Hqgqf-sgvwBo",
        "outputId": "ea87c0e5-23f9-4003-c28c-cfe9e0f4026c"
      },
      "execution_count": 14,
      "outputs": [
        {
          "output_type": "execute_result",
          "data": {
            "text/plain": [
              "0     Geeks\n",
              "1       For\n",
              "2     Geeks\n",
              "3    Pandas\n",
              "4    Series\n",
              "dtype: object"
            ]
          },
          "metadata": {},
          "execution_count": 14
        }
      ]
    },
    {
      "cell_type": "code",
      "source": [
        "Y_true = [1,1,2,2,4]\n",
        "Y_pred = [0.6,1.29,1.99,2.69,3.4]\n",
        "MSE = np.square(np.subtract(Y_true,Y_pred)).mean()\n",
        "print(MSE)"
      ],
      "metadata": {
        "colab": {
          "base_uri": "https://localhost:8080/"
        },
        "id": "naPrDJVMvwOf",
        "outputId": "4ab73039-15ab-4cc0-88ec-578b336ee80f"
      },
      "execution_count": 15,
      "outputs": [
        {
          "output_type": "stream",
          "name": "stdout",
          "text": [
            "0.21606\n"
          ]
        }
      ]
    },
    {
      "cell_type": "code",
      "source": [
        "series1=pd.Series([6,7,5,2,4,1,3])\n",
        "series2=pd.Series([1,2,3])\n",
        "\n",
        "l=[pd.Index(series1).get_loc(num) for num in series2]\n",
        "print(l)"
      ],
      "metadata": {
        "colab": {
          "base_uri": "https://localhost:8080/"
        },
        "id": "JKaEblgjv3ap",
        "outputId": "12bbdeac-9631-4934-d381-1ffbe4d76b87"
      },
      "execution_count": 16,
      "outputs": [
        {
          "output_type": "stream",
          "name": "stdout",
          "text": [
            "[5, 3, 6]\n"
          ]
        }
      ]
    },
    {
      "cell_type": "code",
      "source": [
        "series1 = pd.Series(['a', 'b', 'c', 'd', 'e'])\n",
        "series2 = pd.Series([9, 8, 7, 6, 5])\n",
        "df = pd.concat([series1, series2], axis = 1)\n",
        "print(\"\\nHorizontal:\")\n",
        "display(df)\n",
        "df = pd.concat([series1, series2], axis = 0)\n",
        "print(\"\\nVertical:\")\n",
        "display(df)"
      ],
      "metadata": {
        "colab": {
          "base_uri": "https://localhost:8080/",
          "height": 466
        },
        "id": "HLDgEsXEv5ZX",
        "outputId": "d5ac220c-cd2f-48c8-e23d-76af65ee08ac"
      },
      "execution_count": 17,
      "outputs": [
        {
          "output_type": "stream",
          "name": "stdout",
          "text": [
            "\n",
            "Horizontal:\n"
          ]
        },
        {
          "output_type": "display_data",
          "data": {
            "text/plain": [
              "   0  1\n",
              "0  a  9\n",
              "1  b  8\n",
              "2  c  7\n",
              "3  d  6\n",
              "4  e  5"
            ],
            "text/html": [
              "\n",
              "  <div id=\"df-96a360ee-1617-485a-904f-94d4cb7937b1\">\n",
              "    <div class=\"colab-df-container\">\n",
              "      <div>\n",
              "<style scoped>\n",
              "    .dataframe tbody tr th:only-of-type {\n",
              "        vertical-align: middle;\n",
              "    }\n",
              "\n",
              "    .dataframe tbody tr th {\n",
              "        vertical-align: top;\n",
              "    }\n",
              "\n",
              "    .dataframe thead th {\n",
              "        text-align: right;\n",
              "    }\n",
              "</style>\n",
              "<table border=\"1\" class=\"dataframe\">\n",
              "  <thead>\n",
              "    <tr style=\"text-align: right;\">\n",
              "      <th></th>\n",
              "      <th>0</th>\n",
              "      <th>1</th>\n",
              "    </tr>\n",
              "  </thead>\n",
              "  <tbody>\n",
              "    <tr>\n",
              "      <th>0</th>\n",
              "      <td>a</td>\n",
              "      <td>9</td>\n",
              "    </tr>\n",
              "    <tr>\n",
              "      <th>1</th>\n",
              "      <td>b</td>\n",
              "      <td>8</td>\n",
              "    </tr>\n",
              "    <tr>\n",
              "      <th>2</th>\n",
              "      <td>c</td>\n",
              "      <td>7</td>\n",
              "    </tr>\n",
              "    <tr>\n",
              "      <th>3</th>\n",
              "      <td>d</td>\n",
              "      <td>6</td>\n",
              "    </tr>\n",
              "    <tr>\n",
              "      <th>4</th>\n",
              "      <td>e</td>\n",
              "      <td>5</td>\n",
              "    </tr>\n",
              "  </tbody>\n",
              "</table>\n",
              "</div>\n",
              "      <button class=\"colab-df-convert\" onclick=\"convertToInteractive('df-96a360ee-1617-485a-904f-94d4cb7937b1')\"\n",
              "              title=\"Convert this dataframe to an interactive table.\"\n",
              "              style=\"display:none;\">\n",
              "        \n",
              "  <svg xmlns=\"http://www.w3.org/2000/svg\" height=\"24px\"viewBox=\"0 0 24 24\"\n",
              "       width=\"24px\">\n",
              "    <path d=\"M0 0h24v24H0V0z\" fill=\"none\"/>\n",
              "    <path d=\"M18.56 5.44l.94 2.06.94-2.06 2.06-.94-2.06-.94-.94-2.06-.94 2.06-2.06.94zm-11 1L8.5 8.5l.94-2.06 2.06-.94-2.06-.94L8.5 2.5l-.94 2.06-2.06.94zm10 10l.94 2.06.94-2.06 2.06-.94-2.06-.94-.94-2.06-.94 2.06-2.06.94z\"/><path d=\"M17.41 7.96l-1.37-1.37c-.4-.4-.92-.59-1.43-.59-.52 0-1.04.2-1.43.59L10.3 9.45l-7.72 7.72c-.78.78-.78 2.05 0 2.83L4 21.41c.39.39.9.59 1.41.59.51 0 1.02-.2 1.41-.59l7.78-7.78 2.81-2.81c.8-.78.8-2.07 0-2.86zM5.41 20L4 18.59l7.72-7.72 1.47 1.35L5.41 20z\"/>\n",
              "  </svg>\n",
              "      </button>\n",
              "      \n",
              "  <style>\n",
              "    .colab-df-container {\n",
              "      display:flex;\n",
              "      flex-wrap:wrap;\n",
              "      gap: 12px;\n",
              "    }\n",
              "\n",
              "    .colab-df-convert {\n",
              "      background-color: #E8F0FE;\n",
              "      border: none;\n",
              "      border-radius: 50%;\n",
              "      cursor: pointer;\n",
              "      display: none;\n",
              "      fill: #1967D2;\n",
              "      height: 32px;\n",
              "      padding: 0 0 0 0;\n",
              "      width: 32px;\n",
              "    }\n",
              "\n",
              "    .colab-df-convert:hover {\n",
              "      background-color: #E2EBFA;\n",
              "      box-shadow: 0px 1px 2px rgba(60, 64, 67, 0.3), 0px 1px 3px 1px rgba(60, 64, 67, 0.15);\n",
              "      fill: #174EA6;\n",
              "    }\n",
              "\n",
              "    [theme=dark] .colab-df-convert {\n",
              "      background-color: #3B4455;\n",
              "      fill: #D2E3FC;\n",
              "    }\n",
              "\n",
              "    [theme=dark] .colab-df-convert:hover {\n",
              "      background-color: #434B5C;\n",
              "      box-shadow: 0px 1px 3px 1px rgba(0, 0, 0, 0.15);\n",
              "      filter: drop-shadow(0px 1px 2px rgba(0, 0, 0, 0.3));\n",
              "      fill: #FFFFFF;\n",
              "    }\n",
              "  </style>\n",
              "\n",
              "      <script>\n",
              "        const buttonEl =\n",
              "          document.querySelector('#df-96a360ee-1617-485a-904f-94d4cb7937b1 button.colab-df-convert');\n",
              "        buttonEl.style.display =\n",
              "          google.colab.kernel.accessAllowed ? 'block' : 'none';\n",
              "\n",
              "        async function convertToInteractive(key) {\n",
              "          const element = document.querySelector('#df-96a360ee-1617-485a-904f-94d4cb7937b1');\n",
              "          const dataTable =\n",
              "            await google.colab.kernel.invokeFunction('convertToInteractive',\n",
              "                                                     [key], {});\n",
              "          if (!dataTable) return;\n",
              "\n",
              "          const docLinkHtml = 'Like what you see? Visit the ' +\n",
              "            '<a target=\"_blank\" href=https://colab.research.google.com/notebooks/data_table.ipynb>data table notebook</a>'\n",
              "            + ' to learn more about interactive tables.';\n",
              "          element.innerHTML = '';\n",
              "          dataTable['output_type'] = 'display_data';\n",
              "          await google.colab.output.renderOutput(dataTable, element);\n",
              "          const docLink = document.createElement('div');\n",
              "          docLink.innerHTML = docLinkHtml;\n",
              "          element.appendChild(docLink);\n",
              "        }\n",
              "      </script>\n",
              "    </div>\n",
              "  </div>\n",
              "  "
            ]
          },
          "metadata": {}
        },
        {
          "output_type": "stream",
          "name": "stdout",
          "text": [
            "\n",
            "Vertical:\n"
          ]
        },
        {
          "output_type": "display_data",
          "data": {
            "text/plain": [
              "0    a\n",
              "1    b\n",
              "2    c\n",
              "3    d\n",
              "4    e\n",
              "0    9\n",
              "1    8\n",
              "2    7\n",
              "3    6\n",
              "4    5\n",
              "dtype: object"
            ]
          },
          "metadata": {}
        }
      ]
    },
    {
      "cell_type": "code",
      "source": [
        "ser = pd.Series([0,1,2,3,4,5,6,7,8,9])\n",
        "result = np.where(ser % 3==0)\n",
        "print(result)"
      ],
      "metadata": {
        "colab": {
          "base_uri": "https://localhost:8080/"
        },
        "id": "5l8Pe8v9v8Sp",
        "outputId": "c6f6bedc-ef30-4270-9a4a-3fb0f1a0b9bc"
      },
      "execution_count": 18,
      "outputs": [
        {
          "output_type": "stream",
          "name": "stdout",
          "text": [
            "(array([0, 3, 6, 9]),)\n"
          ]
        }
      ]
    },
    {
      "cell_type": "code",
      "source": [
        "print(ser[3])"
      ],
      "metadata": {
        "colab": {
          "base_uri": "https://localhost:8080/"
        },
        "id": "LXpujpvxv-PE",
        "outputId": "de7d68ce-47e9-4ba8-dc20-d39afae1734d"
      },
      "execution_count": 19,
      "outputs": [
        {
          "output_type": "stream",
          "name": "stdout",
          "text": [
            "3\n"
          ]
        }
      ]
    },
    {
      "cell_type": "code",
      "source": [
        "numpyArray = np.array([[15, 22, 43], \n",
        "                       [33, 24, 56]])\n",
        "index = ['Row_' + str(i) \n",
        "        for i in range(1, len(numpyArray) + 1)]\n",
        "columns = ['Column_' + str(i) \n",
        "          for i in range(1, len(numpyArray[0]) + 1)]\n",
        "panda_df = pd.DataFrame(numpyArray , \n",
        "                        index = index,\n",
        "                        columns = columns)\n",
        "print(panda_df)"
      ],
      "metadata": {
        "colab": {
          "base_uri": "https://localhost:8080/"
        },
        "id": "xO3zzz6VwBmF",
        "outputId": "680020d6-94c6-4f61-b95f-34c66d6f2e62"
      },
      "execution_count": 20,
      "outputs": [
        {
          "output_type": "stream",
          "name": "stdout",
          "text": [
            "       Column_1  Column_2  Column_3\n",
            "Row_1        15        22        43\n",
            "Row_2        33        24        56\n"
          ]
        }
      ]
    },
    {
      "cell_type": "code",
      "source": [
        "\n",
        "np.random.RandomState(100)\n",
        "num_series = pd.Series(np.random.randint(1, 5, [15]))\n",
        "print(\"Top 2 Freq:\", num_series.value_counts())\n",
        "result = num_series[~num_series.isin(num_series.value_counts().index[:2])] = 'Other'\n",
        "print(num_series)"
      ],
      "metadata": {
        "id": "6u_h41fgwEHt",
        "outputId": "69f4ef13-30a8-4b0c-9b76-860437165899",
        "colab": {
          "base_uri": "https://localhost:8080/"
        }
      },
      "execution_count": 21,
      "outputs": [
        {
          "output_type": "stream",
          "name": "stdout",
          "text": [
            "Top 2 Freq: 2    5\n",
            "1    5\n",
            "4    3\n",
            "3    2\n",
            "dtype: int64\n",
            "0         2\n",
            "1         1\n",
            "2         2\n",
            "3     Other\n",
            "4         1\n",
            "5         2\n",
            "6         1\n",
            "7     Other\n",
            "8     Other\n",
            "9         2\n",
            "10    Other\n",
            "11        2\n",
            "12        1\n",
            "13        1\n",
            "14    Other\n",
            "dtype: object\n"
          ]
        }
      ]
    }
  ]
}