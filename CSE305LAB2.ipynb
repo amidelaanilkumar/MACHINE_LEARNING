{
  "nbformat": 4,
  "nbformat_minor": 0,
  "metadata": {
    "colab": {
      "provenance": [],
      "collapsed_sections": []
    },
    "kernelspec": {
      "name": "python3",
      "display_name": "Python 3"
    },
    "language_info": {
      "name": "python"
    }
  },
  "cells": [
    {
      "cell_type": "code",
      "source": [
        "import numpy as np\n",
        "start=int(input(\"start number\"))\n",
        "end=int(input(\"end number\"))\n",
        "for num in range(start,end):\n",
        "  if num>1 :\n",
        "    for number in range(2,num):\n",
        "      if (num % number) == 0:\n",
        "        break\n",
        "    else:\n",
        "      print(num)\n",
        "        "
      ],
      "metadata": {
        "colab": {
          "base_uri": "https://localhost:8080/"
        },
        "id": "JyLsbtG2gC7B",
        "outputId": "7443e217-c8d7-4a26-efc2-5a457e8b7601"
      },
      "execution_count": null,
      "outputs": [
        {
          "output_type": "stream",
          "name": "stdout",
          "text": [
            "start number10\n",
            "end number20\n",
            "11\n",
            "13\n",
            "17\n",
            "19\n"
          ]
        }
      ]
    },
    {
      "cell_type": "code",
      "source": [
        "import numpy as np\n",
        "string=input(\"\")\n",
        "list=string.split()\n",
        "print(list)\n",
        "size=len(list)\n",
        "for i in range (0,size):\n",
        "  k=0\n",
        "  for j in range (0,size):\n",
        "    if list[i] == list[j] :\n",
        "      k=k+1\n",
        "      percentage=(k/size)*100\n",
        "  print(list[i],\"==\",percentage)\n"
      ],
      "metadata": {
        "colab": {
          "base_uri": "https://localhost:8080/"
        },
        "id": "vcpEsmAElYjV",
        "outputId": "bd6a4829-c8d5-4195-a439-e87f1997be6e"
      },
      "execution_count": null,
      "outputs": [
        {
          "output_type": "stream",
          "name": "stdout",
          "text": [
            "anil sagar anil rohit rohit rohit\n",
            "['anil', 'sagar', 'anil', 'rohit', 'rohit', 'rohit']\n",
            "anil == 33.33333333333333\n",
            "sagar == 16.666666666666664\n",
            "anil == 33.33333333333333\n",
            "rohit == 50.0\n",
            "rohit == 50.0\n",
            "rohit == 50.0\n"
          ]
        }
      ]
    },
    {
      "cell_type": "code",
      "source": [
        "\n",
        "import math\n",
        "def isPerfectSquare(x):\n",
        "\ts = int(math.sqrt(x))\n",
        "\treturn s*s == x\n",
        "def isFibonacci(n):\n",
        "\treturn isPerfectSquare(5*n*n + 4) or isPerfectSquare(5*n*n - 4)\n",
        "i = int(input())\n",
        "if (isFibonacci(i) == True):\n",
        "  print(i, \"is a Fibonacci Number\")\n",
        "else:\n",
        "  print(i, \"is a not Fibonacci Number \")\n"
      ],
      "metadata": {
        "colab": {
          "base_uri": "https://localhost:8080/"
        },
        "id": "-0b71vOsKiQy",
        "outputId": "5d964f94-2fa5-46c8-d64a-234663b654ba"
      },
      "execution_count": null,
      "outputs": [
        {
          "output_type": "stream",
          "name": "stdout",
          "text": [
            "11\n",
            "11 is a not Fibonacci Number \n"
          ]
        }
      ]
    },
    {
      "cell_type": "code",
      "source": [
        "\n",
        "def checkDivisibility(n, digit) :\n",
        "\t\n",
        "\n",
        "\treturn (digit != 0 and n % digit == 0)\n",
        "\t\n",
        "\n",
        "def allDigitsDivide( n) :\n",
        "\t\n",
        "\ttemp = n\n",
        "\twhile (temp > 0) :\n",
        "\t\tdigit = temp % 10\n",
        "\t\tif ((checkDivisibility(n, digit)) == False) :\n",
        "\t\t\treturn False\n",
        "\n",
        "\t\ttemp = temp // 10\n",
        "\t\n",
        "\treturn True\n",
        "\n",
        "n=int(input())\n",
        "\n",
        "if (allDigitsDivide(n)) :\n",
        "\tprint(\"Yes\")\n",
        "else :\n",
        "\tprint(\"No\" )\n",
        "\t\n"
      ],
      "metadata": {
        "colab": {
          "base_uri": "https://localhost:8080/"
        },
        "id": "Lur3v0grLMeQ",
        "outputId": "4f1d1fe6-646c-4835-a3d4-7f3db174de54"
      },
      "execution_count": null,
      "outputs": [
        {
          "output_type": "stream",
          "name": "stdout",
          "text": [
            "128\n",
            "Yes\n"
          ]
        }
      ]
    },
    {
      "cell_type": "code",
      "source": [
        "def SplitArray(arr, n, k):\n",
        "\tfor i in range(0, k):\n",
        "\t\tx = arr[0]\n",
        "\t\tfor j in range(0, n-1):\n",
        "\t\t\tarr[j] = arr[j + 1]\n",
        "\t\t\n",
        "\t\tarr[n-1] = x\t\n",
        "string=input(\"\")\n",
        "arr=string.split()\t\n",
        "n = len(arr)\n",
        "position=int(input())\n",
        "SplitArray(arr, n, position)\n",
        "for i in range(0, n):\n",
        "\tprint(arr[i], end = ' ')"
      ],
      "metadata": {
        "colab": {
          "base_uri": "https://localhost:8080/"
        },
        "id": "YjsQbo8KL89R",
        "outputId": "4655b67b-1fb4-41c9-a7f5-eccd3da1a1e5"
      },
      "execution_count": null,
      "outputs": [
        {
          "output_type": "stream",
          "name": "stdout",
          "text": [
            "1 2 3 4 5\n",
            "3\n",
            "4 5 1 2 3 "
          ]
        }
      ]
    },
    {
      "cell_type": "code",
      "source": [
        "import numpy as np\n",
        "new_array = np.random.randint(3,10, size=(4,5))\n",
        "print(new_array)"
      ],
      "metadata": {
        "colab": {
          "base_uri": "https://localhost:8080/"
        },
        "id": "QALBsvlQNHvZ",
        "outputId": "50709439-ccdb-4cb7-a436-4aec08aadd9a"
      },
      "execution_count": null,
      "outputs": [
        {
          "output_type": "stream",
          "name": "stdout",
          "text": [
            "[[5 3 5 7 5]\n",
            " [7 5 5 4 3]\n",
            " [4 9 6 6 3]\n",
            " [8 9 8 9 6]]\n"
          ]
        }
      ]
    },
    {
      "cell_type": "code",
      "source": [
        "import numpy as np\n",
        "new_array = np.random.randint(3,10, size=(4,5))\n",
        "print(new_array)"
      ],
      "metadata": {
        "id": "c0k65eFyOQrV"
      },
      "execution_count": null,
      "outputs": []
    },
    {
      "cell_type": "code",
      "source": [
        "import numpy as np\n",
        "fvalues = [0, 12, 45.21, 34, 99.91, 32]\n",
        "F = np.array(fvalues)\n",
        "print(\"Fahrenheit degrees:\")\n",
        "print(F)\n",
        "print(\"Centigrade degrees:\")\n",
        "print(np.round((5*F/9 - 5*32/9),2))\n"
      ],
      "metadata": {
        "colab": {
          "base_uri": "https://localhost:8080/"
        },
        "id": "hTooWoRfO35x",
        "outputId": "0173c2ca-b6b1-42a6-94b9-48b917f42b5b"
      },
      "execution_count": 7,
      "outputs": [
        {
          "output_type": "stream",
          "name": "stdout",
          "text": [
            "Fahrenheit degrees:\n",
            "[ 0.   12.   45.21 34.   99.91 32.  ]\n",
            "Centigrade degrees:\n",
            "[-17.78 -11.11   7.34   1.11  37.73   0.  ]\n"
          ]
        }
      ]
    },
    {
      "cell_type": "code",
      "source": [
        "import numpy as np    \n",
        "x = np.array([[ 0,  1,  2,  3,  4,  5,  6,  7,  8,  9, 10, 11],\n",
        "       [12, 13, 14, 15, 16, 17, 18, 19, 20, 21, 22, 23]])\n",
        "print(\"\\ndimensions:\")\n",
        "print(x.ndim)\n",
        "print(\"elements:\")\n",
        "print(x.size)\n",
        "print(\"Number of bytes\")\n",
        "print(x.itemsize) \n"
      ],
      "metadata": {
        "colab": {
          "base_uri": "https://localhost:8080/"
        },
        "id": "uw6tLHKtPH68",
        "outputId": "21419eee-254c-427c-feeb-be7cd70481c9"
      },
      "execution_count": 13,
      "outputs": [
        {
          "output_type": "stream",
          "name": "stdout",
          "text": [
            "\n",
            "dimensions:\n",
            "2\n",
            "elements:\n",
            "24\n",
            "Number of bytes\n",
            "8\n"
          ]
        }
      ]
    },
    {
      "cell_type": "code",
      "source": [
        "import numpy as np\n",
        "arra_data = np.arange(0,16).reshape((4, 4))\n",
        "print(arra_data)\n",
        "print(\"\\n 3rd and 4th elements of the 1&2 rows \")\n",
        "print(arra_data[0:2, 2:4])\n"
      ],
      "metadata": {
        "colab": {
          "base_uri": "https://localhost:8080/"
        },
        "id": "-n5L19F7PwMX",
        "outputId": "447c8873-1723-48c3-ffcd-206cfcb30981"
      },
      "execution_count": 15,
      "outputs": [
        {
          "output_type": "stream",
          "name": "stdout",
          "text": [
            "[[ 0  1  2  3]\n",
            " [ 4  5  6  7]\n",
            " [ 8  9 10 11]\n",
            " [12 13 14 15]]\n",
            "\n",
            " 3rd and 4th elements of the 1&2 rows \n",
            "[[2 3]\n",
            " [6 7]]\n"
          ]
        }
      ]
    },
    {
      "cell_type": "code",
      "source": [],
      "metadata": {
        "id": "yFRSAQrvPwI6"
      },
      "execution_count": null,
      "outputs": []
    }
  ]
}